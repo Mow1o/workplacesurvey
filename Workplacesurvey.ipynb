{
 "cells": [
  {
   "cell_type": "code",
   "execution_count": 1,
   "id": "e37e0610-b5de-496f-971c-eeaa7cc41074",
   "metadata": {},
   "outputs": [],
   "source": [
    "#Use numpy for multidimensional arrays, matrixes and math libraries\n",
    "import numpy as np\n",
    "#Use matplotlib to visualize data\n",
    "import matplotlib.pyplot as plt\n",
    "#Use collections for counter, ??\n",
    "import collections\n",
    "#Use Pandas to read data from the file\n",
    "import pandas as pd\n",
    "import seaborn as sns"
   ]
  },
  {
   "cell_type": "code",
   "execution_count": 2,
   "id": "5d9cf337-ce72-4616-88af-6e79c5fce9fe",
   "metadata": {},
   "outputs": [],
   "source": [
    "workplacesurvey = pd.read_excel('WorkPlaceSatisfactionSurveyData.xlsx', index_col = False )"
   ]
  },
  {
   "cell_type": "code",
   "execution_count": 3,
   "id": "a87a3b9d-b20e-4832-814f-1e368dc08f25",
   "metadata": {},
   "outputs": [
    {
     "data": {
      "text/html": [
       "<div>\n",
       "<style scoped>\n",
       "    .dataframe tbody tr th:only-of-type {\n",
       "        vertical-align: middle;\n",
       "    }\n",
       "\n",
       "    .dataframe tbody tr th {\n",
       "        vertical-align: top;\n",
       "    }\n",
       "\n",
       "    .dataframe thead th {\n",
       "        text-align: right;\n",
       "    }\n",
       "</style>\n",
       "<table border=\"1\" class=\"dataframe\">\n",
       "  <thead>\n",
       "    <tr style=\"text-align: right;\">\n",
       "      <th></th>\n",
       "      <th>number</th>\n",
       "      <th>gender</th>\n",
       "      <th>age</th>\n",
       "      <th>family</th>\n",
       "      <th>education</th>\n",
       "      <th>years_of_service</th>\n",
       "      <th>salary</th>\n",
       "      <th>sat_management</th>\n",
       "      <th>sat_colleques</th>\n",
       "      <th>sat_workingEnvironment</th>\n",
       "      <th>sat_salary</th>\n",
       "      <th>sat_tasks</th>\n",
       "      <th>healtcare</th>\n",
       "      <th>holidayCabin</th>\n",
       "      <th>gym</th>\n",
       "      <th>muscleCare</th>\n",
       "    </tr>\n",
       "  </thead>\n",
       "  <tbody>\n",
       "    <tr>\n",
       "      <th>0</th>\n",
       "      <td>1</td>\n",
       "      <td>1</td>\n",
       "      <td>38</td>\n",
       "      <td>1</td>\n",
       "      <td>1.0</td>\n",
       "      <td>22.0</td>\n",
       "      <td>3587</td>\n",
       "      <td>3</td>\n",
       "      <td>3.0</td>\n",
       "      <td>3</td>\n",
       "      <td>3</td>\n",
       "      <td>3</td>\n",
       "      <td>NaN</td>\n",
       "      <td>NaN</td>\n",
       "      <td>NaN</td>\n",
       "      <td>NaN</td>\n",
       "    </tr>\n",
       "    <tr>\n",
       "      <th>1</th>\n",
       "      <td>2</td>\n",
       "      <td>1</td>\n",
       "      <td>29</td>\n",
       "      <td>2</td>\n",
       "      <td>2.0</td>\n",
       "      <td>10.0</td>\n",
       "      <td>2963</td>\n",
       "      <td>1</td>\n",
       "      <td>5.0</td>\n",
       "      <td>2</td>\n",
       "      <td>1</td>\n",
       "      <td>3</td>\n",
       "      <td>NaN</td>\n",
       "      <td>NaN</td>\n",
       "      <td>NaN</td>\n",
       "      <td>NaN</td>\n",
       "    </tr>\n",
       "    <tr>\n",
       "      <th>2</th>\n",
       "      <td>3</td>\n",
       "      <td>1</td>\n",
       "      <td>30</td>\n",
       "      <td>1</td>\n",
       "      <td>1.0</td>\n",
       "      <td>7.0</td>\n",
       "      <td>1989</td>\n",
       "      <td>3</td>\n",
       "      <td>4.0</td>\n",
       "      <td>1</td>\n",
       "      <td>1</td>\n",
       "      <td>3</td>\n",
       "      <td>1.0</td>\n",
       "      <td>NaN</td>\n",
       "      <td>NaN</td>\n",
       "      <td>NaN</td>\n",
       "    </tr>\n",
       "    <tr>\n",
       "      <th>3</th>\n",
       "      <td>4</td>\n",
       "      <td>1</td>\n",
       "      <td>36</td>\n",
       "      <td>2</td>\n",
       "      <td>1.0</td>\n",
       "      <td>14.0</td>\n",
       "      <td>2144</td>\n",
       "      <td>3</td>\n",
       "      <td>3.0</td>\n",
       "      <td>3</td>\n",
       "      <td>3</td>\n",
       "      <td>3</td>\n",
       "      <td>1.0</td>\n",
       "      <td>NaN</td>\n",
       "      <td>NaN</td>\n",
       "      <td>NaN</td>\n",
       "    </tr>\n",
       "    <tr>\n",
       "      <th>4</th>\n",
       "      <td>5</td>\n",
       "      <td>1</td>\n",
       "      <td>24</td>\n",
       "      <td>1</td>\n",
       "      <td>2.0</td>\n",
       "      <td>4.0</td>\n",
       "      <td>2183</td>\n",
       "      <td>2</td>\n",
       "      <td>3.0</td>\n",
       "      <td>2</td>\n",
       "      <td>1</td>\n",
       "      <td>2</td>\n",
       "      <td>1.0</td>\n",
       "      <td>NaN</td>\n",
       "      <td>NaN</td>\n",
       "      <td>NaN</td>\n",
       "    </tr>\n",
       "  </tbody>\n",
       "</table>\n",
       "</div>"
      ],
      "text/plain": [
       "   number  gender  age  family  education  years_of_service  salary  \\\n",
       "0       1       1   38       1        1.0              22.0    3587   \n",
       "1       2       1   29       2        2.0              10.0    2963   \n",
       "2       3       1   30       1        1.0               7.0    1989   \n",
       "3       4       1   36       2        1.0              14.0    2144   \n",
       "4       5       1   24       1        2.0               4.0    2183   \n",
       "\n",
       "   sat_management  sat_colleques  sat_workingEnvironment  sat_salary  \\\n",
       "0               3            3.0                       3           3   \n",
       "1               1            5.0                       2           1   \n",
       "2               3            4.0                       1           1   \n",
       "3               3            3.0                       3           3   \n",
       "4               2            3.0                       2           1   \n",
       "\n",
       "   sat_tasks  healtcare  holidayCabin  gym  muscleCare  \n",
       "0          3        NaN           NaN  NaN         NaN  \n",
       "1          3        NaN           NaN  NaN         NaN  \n",
       "2          3        1.0           NaN  NaN         NaN  \n",
       "3          3        1.0           NaN  NaN         NaN  \n",
       "4          2        1.0           NaN  NaN         NaN  "
      ]
     },
     "execution_count": 3,
     "metadata": {},
     "output_type": "execute_result"
    }
   ],
   "source": [
    "workplacesurvey.head()"
   ]
  },
  {
   "cell_type": "code",
   "execution_count": 4,
   "id": "23617418-3446-4259-b853-2e900730af61",
   "metadata": {},
   "outputs": [
    {
     "data": {
      "text/plain": [
       "number                     0\n",
       "gender                     0\n",
       "age                        0\n",
       "family                     0\n",
       "education                  1\n",
       "years_of_service           2\n",
       "salary                     0\n",
       "sat_management             0\n",
       "sat_colleques              1\n",
       "sat_workingEnvironment     0\n",
       "sat_salary                 0\n",
       "sat_tasks                  0\n",
       "healtcare                 35\n",
       "holidayCabin              62\n",
       "gym                       73\n",
       "muscleCare                60\n",
       "dtype: int64"
      ]
     },
     "execution_count": 4,
     "metadata": {},
     "output_type": "execute_result"
    }
   ],
   "source": [
    "workplacesurvey.isnull().sum()"
   ]
  },
  {
   "cell_type": "code",
   "execution_count": 5,
   "id": "86a433fb-3f8f-427c-bda6-e0ecd7338308",
   "metadata": {},
   "outputs": [
    {
     "data": {
      "text/html": [
       "<div>\n",
       "<style scoped>\n",
       "    .dataframe tbody tr th:only-of-type {\n",
       "        vertical-align: middle;\n",
       "    }\n",
       "\n",
       "    .dataframe tbody tr th {\n",
       "        vertical-align: top;\n",
       "    }\n",
       "\n",
       "    .dataframe thead th {\n",
       "        text-align: right;\n",
       "    }\n",
       "</style>\n",
       "<table border=\"1\" class=\"dataframe\">\n",
       "  <thead>\n",
       "    <tr style=\"text-align: right;\">\n",
       "      <th></th>\n",
       "      <th>number</th>\n",
       "      <th>gender</th>\n",
       "      <th>age</th>\n",
       "      <th>family</th>\n",
       "      <th>education</th>\n",
       "      <th>years_of_service</th>\n",
       "      <th>salary</th>\n",
       "      <th>sat_management</th>\n",
       "      <th>sat_colleques</th>\n",
       "      <th>sat_workingEnvironment</th>\n",
       "      <th>sat_salary</th>\n",
       "      <th>sat_tasks</th>\n",
       "      <th>healtcare</th>\n",
       "      <th>holidayCabin</th>\n",
       "      <th>gym</th>\n",
       "      <th>muscleCare</th>\n",
       "    </tr>\n",
       "  </thead>\n",
       "  <tbody>\n",
       "    <tr>\n",
       "      <th>count</th>\n",
       "      <td>82.000000</td>\n",
       "      <td>82.000000</td>\n",
       "      <td>82.000000</td>\n",
       "      <td>82.000000</td>\n",
       "      <td>81.000000</td>\n",
       "      <td>80.000000</td>\n",
       "      <td>82.000000</td>\n",
       "      <td>82.000000</td>\n",
       "      <td>81.000000</td>\n",
       "      <td>82.000000</td>\n",
       "      <td>82.000000</td>\n",
       "      <td>82.000000</td>\n",
       "      <td>47.0</td>\n",
       "      <td>20.0</td>\n",
       "      <td>9.0</td>\n",
       "      <td>22.0</td>\n",
       "    </tr>\n",
       "    <tr>\n",
       "      <th>mean</th>\n",
       "      <td>41.500000</td>\n",
       "      <td>1.231707</td>\n",
       "      <td>37.951220</td>\n",
       "      <td>1.621951</td>\n",
       "      <td>1.987654</td>\n",
       "      <td>12.175000</td>\n",
       "      <td>2563.878049</td>\n",
       "      <td>3.060976</td>\n",
       "      <td>4.061728</td>\n",
       "      <td>3.219512</td>\n",
       "      <td>2.109756</td>\n",
       "      <td>3.195122</td>\n",
       "      <td>1.0</td>\n",
       "      <td>1.0</td>\n",
       "      <td>1.0</td>\n",
       "      <td>1.0</td>\n",
       "    </tr>\n",
       "    <tr>\n",
       "      <th>std</th>\n",
       "      <td>23.815261</td>\n",
       "      <td>0.424519</td>\n",
       "      <td>9.773866</td>\n",
       "      <td>0.487884</td>\n",
       "      <td>0.844006</td>\n",
       "      <td>8.807038</td>\n",
       "      <td>849.350302</td>\n",
       "      <td>1.058155</td>\n",
       "      <td>0.826826</td>\n",
       "      <td>1.154961</td>\n",
       "      <td>1.111179</td>\n",
       "      <td>1.047502</td>\n",
       "      <td>0.0</td>\n",
       "      <td>0.0</td>\n",
       "      <td>0.0</td>\n",
       "      <td>0.0</td>\n",
       "    </tr>\n",
       "    <tr>\n",
       "      <th>min</th>\n",
       "      <td>1.000000</td>\n",
       "      <td>1.000000</td>\n",
       "      <td>20.000000</td>\n",
       "      <td>1.000000</td>\n",
       "      <td>1.000000</td>\n",
       "      <td>0.000000</td>\n",
       "      <td>1521.000000</td>\n",
       "      <td>1.000000</td>\n",
       "      <td>2.000000</td>\n",
       "      <td>1.000000</td>\n",
       "      <td>1.000000</td>\n",
       "      <td>1.000000</td>\n",
       "      <td>1.0</td>\n",
       "      <td>1.0</td>\n",
       "      <td>1.0</td>\n",
       "      <td>1.0</td>\n",
       "    </tr>\n",
       "    <tr>\n",
       "      <th>25%</th>\n",
       "      <td>21.250000</td>\n",
       "      <td>1.000000</td>\n",
       "      <td>31.000000</td>\n",
       "      <td>1.000000</td>\n",
       "      <td>1.000000</td>\n",
       "      <td>3.750000</td>\n",
       "      <td>2027.000000</td>\n",
       "      <td>2.000000</td>\n",
       "      <td>4.000000</td>\n",
       "      <td>3.000000</td>\n",
       "      <td>1.000000</td>\n",
       "      <td>3.000000</td>\n",
       "      <td>1.0</td>\n",
       "      <td>1.0</td>\n",
       "      <td>1.0</td>\n",
       "      <td>1.0</td>\n",
       "    </tr>\n",
       "    <tr>\n",
       "      <th>50%</th>\n",
       "      <td>41.500000</td>\n",
       "      <td>1.000000</td>\n",
       "      <td>37.500000</td>\n",
       "      <td>2.000000</td>\n",
       "      <td>2.000000</td>\n",
       "      <td>12.500000</td>\n",
       "      <td>2320.000000</td>\n",
       "      <td>3.000000</td>\n",
       "      <td>4.000000</td>\n",
       "      <td>3.000000</td>\n",
       "      <td>2.000000</td>\n",
       "      <td>3.000000</td>\n",
       "      <td>1.0</td>\n",
       "      <td>1.0</td>\n",
       "      <td>1.0</td>\n",
       "      <td>1.0</td>\n",
       "    </tr>\n",
       "    <tr>\n",
       "      <th>75%</th>\n",
       "      <td>61.750000</td>\n",
       "      <td>1.000000</td>\n",
       "      <td>44.000000</td>\n",
       "      <td>2.000000</td>\n",
       "      <td>3.000000</td>\n",
       "      <td>18.250000</td>\n",
       "      <td>2808.000000</td>\n",
       "      <td>4.000000</td>\n",
       "      <td>5.000000</td>\n",
       "      <td>4.000000</td>\n",
       "      <td>3.000000</td>\n",
       "      <td>4.000000</td>\n",
       "      <td>1.0</td>\n",
       "      <td>1.0</td>\n",
       "      <td>1.0</td>\n",
       "      <td>1.0</td>\n",
       "    </tr>\n",
       "    <tr>\n",
       "      <th>max</th>\n",
       "      <td>82.000000</td>\n",
       "      <td>2.000000</td>\n",
       "      <td>61.000000</td>\n",
       "      <td>2.000000</td>\n",
       "      <td>4.000000</td>\n",
       "      <td>36.000000</td>\n",
       "      <td>6278.000000</td>\n",
       "      <td>5.000000</td>\n",
       "      <td>5.000000</td>\n",
       "      <td>5.000000</td>\n",
       "      <td>5.000000</td>\n",
       "      <td>5.000000</td>\n",
       "      <td>1.0</td>\n",
       "      <td>1.0</td>\n",
       "      <td>1.0</td>\n",
       "      <td>1.0</td>\n",
       "    </tr>\n",
       "  </tbody>\n",
       "</table>\n",
       "</div>"
      ],
      "text/plain": [
       "          number     gender        age     family  education  \\\n",
       "count  82.000000  82.000000  82.000000  82.000000  81.000000   \n",
       "mean   41.500000   1.231707  37.951220   1.621951   1.987654   \n",
       "std    23.815261   0.424519   9.773866   0.487884   0.844006   \n",
       "min     1.000000   1.000000  20.000000   1.000000   1.000000   \n",
       "25%    21.250000   1.000000  31.000000   1.000000   1.000000   \n",
       "50%    41.500000   1.000000  37.500000   2.000000   2.000000   \n",
       "75%    61.750000   1.000000  44.000000   2.000000   3.000000   \n",
       "max    82.000000   2.000000  61.000000   2.000000   4.000000   \n",
       "\n",
       "       years_of_service       salary  sat_management  sat_colleques  \\\n",
       "count         80.000000    82.000000       82.000000      81.000000   \n",
       "mean          12.175000  2563.878049        3.060976       4.061728   \n",
       "std            8.807038   849.350302        1.058155       0.826826   \n",
       "min            0.000000  1521.000000        1.000000       2.000000   \n",
       "25%            3.750000  2027.000000        2.000000       4.000000   \n",
       "50%           12.500000  2320.000000        3.000000       4.000000   \n",
       "75%           18.250000  2808.000000        4.000000       5.000000   \n",
       "max           36.000000  6278.000000        5.000000       5.000000   \n",
       "\n",
       "       sat_workingEnvironment  sat_salary  sat_tasks  healtcare  holidayCabin  \\\n",
       "count               82.000000   82.000000  82.000000       47.0          20.0   \n",
       "mean                 3.219512    2.109756   3.195122        1.0           1.0   \n",
       "std                  1.154961    1.111179   1.047502        0.0           0.0   \n",
       "min                  1.000000    1.000000   1.000000        1.0           1.0   \n",
       "25%                  3.000000    1.000000   3.000000        1.0           1.0   \n",
       "50%                  3.000000    2.000000   3.000000        1.0           1.0   \n",
       "75%                  4.000000    3.000000   4.000000        1.0           1.0   \n",
       "max                  5.000000    5.000000   5.000000        1.0           1.0   \n",
       "\n",
       "       gym  muscleCare  \n",
       "count  9.0        22.0  \n",
       "mean   1.0         1.0  \n",
       "std    0.0         0.0  \n",
       "min    1.0         1.0  \n",
       "25%    1.0         1.0  \n",
       "50%    1.0         1.0  \n",
       "75%    1.0         1.0  \n",
       "max    1.0         1.0  "
      ]
     },
     "execution_count": 5,
     "metadata": {},
     "output_type": "execute_result"
    }
   ],
   "source": [
    "workplacesurvey.describe()"
   ]
  },
  {
   "cell_type": "code",
   "execution_count": 6,
   "id": "b4ae172c-9f21-4702-bd79-0e44861ac49d",
   "metadata": {},
   "outputs": [
    {
     "data": {
      "text/plain": [
       "number                    82\n",
       "gender                    82\n",
       "age                       82\n",
       "family                    82\n",
       "education                 81\n",
       "years_of_service          80\n",
       "salary                    82\n",
       "sat_management            82\n",
       "sat_colleques             81\n",
       "sat_workingEnvironment    82\n",
       "sat_salary                82\n",
       "sat_tasks                 82\n",
       "healtcare                 47\n",
       "holidayCabin              20\n",
       "gym                        9\n",
       "muscleCare                22\n",
       "dtype: int64"
      ]
     },
     "execution_count": 6,
     "metadata": {},
     "output_type": "execute_result"
    }
   ],
   "source": [
    "workplacesurvey.count()"
   ]
  },
  {
   "cell_type": "code",
   "execution_count": 7,
   "id": "9cb65a92-a7a6-48b9-a2f0-137d8310bd54",
   "metadata": {},
   "outputs": [],
   "source": [
    "# EDUCATION DISTRIBUTION # VALMIS"
   ]
  },
  {
   "cell_type": "code",
   "execution_count": 8,
   "id": "beec02c7-5d6f-49b7-bf38-0935a23f4eeb",
   "metadata": {},
   "outputs": [
    {
     "data": {
      "text/plain": [
       "0     1.0\n",
       "1     2.0\n",
       "2     1.0\n",
       "3     1.0\n",
       "4     2.0\n",
       "     ... \n",
       "77    3.0\n",
       "78    1.0\n",
       "79    2.0\n",
       "80    2.0\n",
       "81    3.0\n",
       "Name: education, Length: 82, dtype: float64"
      ]
     },
     "execution_count": 8,
     "metadata": {},
     "output_type": "execute_result"
    }
   ],
   "source": [
    "df1=pd.Series(workplacesurvey['education'],copy=False)\n",
    "df1\n"
   ]
  },
  {
   "cell_type": "code",
   "execution_count": 9,
   "id": "2b91a199-6dfd-40d3-aa4e-b86d12195e4b",
   "metadata": {},
   "outputs": [],
   "source": [
    "df1 = pd.Series([1,2,3,4,5], index=['Primary School', 'Secondary School', 'Graduate', 'Bachelor Degree', 'Master Degree'])"
   ]
  },
  {
   "cell_type": "code",
   "execution_count": 10,
   "id": "ee0899fa-42e2-41c4-b496-ce34b0cbdcbe",
   "metadata": {},
   "outputs": [
    {
     "data": {
      "text/plain": [
       "Primary School      1\n",
       "Secondary School    2\n",
       "Graduate            3\n",
       "Bachelor Degree     4\n",
       "Master Degree       5\n",
       "dtype: int64"
      ]
     },
     "execution_count": 10,
     "metadata": {},
     "output_type": "execute_result"
    }
   ],
   "source": [
    "df1"
   ]
  },
  {
   "cell_type": "code",
   "execution_count": 11,
   "id": "7429c4b3-c008-4f9a-bcdc-a0210fdad7c8",
   "metadata": {},
   "outputs": [
    {
     "data": {
      "text/plain": [
       "pandas.core.frame.DataFrame"
      ]
     },
     "execution_count": 11,
     "metadata": {},
     "output_type": "execute_result"
    }
   ],
   "source": [
    "type(workplacesurvey)"
   ]
  },
  {
   "cell_type": "code",
   "execution_count": 12,
   "id": "8c77faa3-d6a5-4093-9ca8-3b356d745c4e",
   "metadata": {},
   "outputs": [],
   "source": [
    "df5=pd.Series(workplacesurvey['education'],copy=False)\n",
    "d55=pd.Series(workplacesurvey['gender'],copy=False)"
   ]
  },
  {
   "cell_type": "code",
   "execution_count": 13,
   "id": "973f285b-998c-499b-b764-d48796fedb0f",
   "metadata": {},
   "outputs": [
    {
     "data": {
      "text/plain": [
       "0     1.0\n",
       "1     2.0\n",
       "2     1.0\n",
       "3     1.0\n",
       "4     2.0\n",
       "     ... \n",
       "77    3.0\n",
       "78    1.0\n",
       "79    2.0\n",
       "80    2.0\n",
       "81    3.0\n",
       "Name: education, Length: 82, dtype: float64"
      ]
     },
     "execution_count": 13,
     "metadata": {},
     "output_type": "execute_result"
    }
   ],
   "source": [
    "df5"
   ]
  },
  {
   "cell_type": "code",
   "execution_count": 14,
   "id": "e7b86581-20f8-4377-9acc-5e7e6ee8f3be",
   "metadata": {},
   "outputs": [
    {
     "data": {
      "text/plain": [
       "0     1\n",
       "1     1\n",
       "2     1\n",
       "3     1\n",
       "4     1\n",
       "     ..\n",
       "77    1\n",
       "78    1\n",
       "79    1\n",
       "80    1\n",
       "81    2\n",
       "Name: gender, Length: 82, dtype: int64"
      ]
     },
     "execution_count": 14,
     "metadata": {},
     "output_type": "execute_result"
    }
   ],
   "source": [
    "d55"
   ]
  },
  {
   "cell_type": "code",
   "execution_count": 15,
   "id": "29551463-e8f8-4114-92b2-d9e05d1a4b02",
   "metadata": {},
   "outputs": [
    {
     "data": {
      "text/html": [
       "<div>\n",
       "<style scoped>\n",
       "    .dataframe tbody tr th:only-of-type {\n",
       "        vertical-align: middle;\n",
       "    }\n",
       "\n",
       "    .dataframe tbody tr th {\n",
       "        vertical-align: top;\n",
       "    }\n",
       "\n",
       "    .dataframe thead th {\n",
       "        text-align: right;\n",
       "    }\n",
       "</style>\n",
       "<table border=\"1\" class=\"dataframe\">\n",
       "  <thead>\n",
       "    <tr style=\"text-align: right;\">\n",
       "      <th>col_0</th>\n",
       "      <th>Count</th>\n",
       "    </tr>\n",
       "    <tr>\n",
       "      <th>education</th>\n",
       "      <th></th>\n",
       "    </tr>\n",
       "  </thead>\n",
       "  <tbody>\n",
       "    <tr>\n",
       "      <th>1.0</th>\n",
       "      <td>27</td>\n",
       "    </tr>\n",
       "    <tr>\n",
       "      <th>2.0</th>\n",
       "      <td>30</td>\n",
       "    </tr>\n",
       "    <tr>\n",
       "      <th>3.0</th>\n",
       "      <td>22</td>\n",
       "    </tr>\n",
       "    <tr>\n",
       "      <th>4.0</th>\n",
       "      <td>2</td>\n",
       "    </tr>\n",
       "  </tbody>\n",
       "</table>\n",
       "</div>"
      ],
      "text/plain": [
       "col_0      Count\n",
       "education       \n",
       "1.0           27\n",
       "2.0           30\n",
       "3.0           22\n",
       "4.0            2"
      ]
     },
     "execution_count": 15,
     "metadata": {},
     "output_type": "execute_result"
    }
   ],
   "source": [
    "df5=pd.crosstab(workplacesurvey['education'], 'Count')\n",
    "d55=pd.crosstab(workplacesurvey['gender'], 'Count')\n",
    "df5"
   ]
  },
  {
   "cell_type": "code",
   "execution_count": 16,
   "id": "6dee171c-44f7-4b5e-a4c0-4702f788c59b",
   "metadata": {},
   "outputs": [
    {
     "data": {
      "text/html": [
       "<div>\n",
       "<style scoped>\n",
       "    .dataframe tbody tr th:only-of-type {\n",
       "        vertical-align: middle;\n",
       "    }\n",
       "\n",
       "    .dataframe tbody tr th {\n",
       "        vertical-align: top;\n",
       "    }\n",
       "\n",
       "    .dataframe thead th {\n",
       "        text-align: right;\n",
       "    }\n",
       "</style>\n",
       "<table border=\"1\" class=\"dataframe\">\n",
       "  <thead>\n",
       "    <tr style=\"text-align: right;\">\n",
       "      <th>col_0</th>\n",
       "      <th>Count</th>\n",
       "    </tr>\n",
       "    <tr>\n",
       "      <th>gender</th>\n",
       "      <th></th>\n",
       "    </tr>\n",
       "  </thead>\n",
       "  <tbody>\n",
       "    <tr>\n",
       "      <th>1</th>\n",
       "      <td>63</td>\n",
       "    </tr>\n",
       "    <tr>\n",
       "      <th>2</th>\n",
       "      <td>19</td>\n",
       "    </tr>\n",
       "  </tbody>\n",
       "</table>\n",
       "</div>"
      ],
      "text/plain": [
       "col_0   Count\n",
       "gender       \n",
       "1          63\n",
       "2          19"
      ]
     },
     "execution_count": 16,
     "metadata": {},
     "output_type": "execute_result"
    }
   ],
   "source": [
    "d55"
   ]
  },
  {
   "cell_type": "code",
   "execution_count": 17,
   "id": "fec2f8ef-9c7d-482d-b8ea-1cf16c6dd3f6",
   "metadata": {},
   "outputs": [],
   "source": [
    "df5.index=['Primary School', 'Secondary School', 'Bachelor Degree', 'Master Degree']\n",
    "df5.columns.name=''"
   ]
  },
  {
   "cell_type": "code",
   "execution_count": 18,
   "id": "1cd20825-15a7-45d1-a534-baba51c4653d",
   "metadata": {},
   "outputs": [
    {
     "data": {
      "text/html": [
       "<div>\n",
       "<style scoped>\n",
       "    .dataframe tbody tr th:only-of-type {\n",
       "        vertical-align: middle;\n",
       "    }\n",
       "\n",
       "    .dataframe tbody tr th {\n",
       "        vertical-align: top;\n",
       "    }\n",
       "\n",
       "    .dataframe thead th {\n",
       "        text-align: right;\n",
       "    }\n",
       "</style>\n",
       "<table border=\"1\" class=\"dataframe\">\n",
       "  <thead>\n",
       "    <tr style=\"text-align: right;\">\n",
       "      <th></th>\n",
       "      <th>Count</th>\n",
       "    </tr>\n",
       "  </thead>\n",
       "  <tbody>\n",
       "    <tr>\n",
       "      <th>Primary School</th>\n",
       "      <td>27</td>\n",
       "    </tr>\n",
       "    <tr>\n",
       "      <th>Secondary School</th>\n",
       "      <td>30</td>\n",
       "    </tr>\n",
       "    <tr>\n",
       "      <th>Bachelor Degree</th>\n",
       "      <td>22</td>\n",
       "    </tr>\n",
       "    <tr>\n",
       "      <th>Master Degree</th>\n",
       "      <td>2</td>\n",
       "    </tr>\n",
       "  </tbody>\n",
       "</table>\n",
       "</div>"
      ],
      "text/plain": [
       "                  Count\n",
       "Primary School       27\n",
       "Secondary School     30\n",
       "Bachelor Degree      22\n",
       "Master Degree         2"
      ]
     },
     "execution_count": 18,
     "metadata": {},
     "output_type": "execute_result"
    }
   ],
   "source": [
    "df5"
   ]
  },
  {
   "cell_type": "code",
   "execution_count": 19,
   "id": "6463ad3c-0d8f-4417-9dc7-de7aafdfd31f",
   "metadata": {},
   "outputs": [
    {
     "data": {
      "image/png": "[encoded data removed]",
      "text/plain": [
       "<Figure size 640x480 with 1 Axes>"
      ]
     },
     "metadata": {},
     "output_type": "display_data"
    }
   ],
   "source": [
    "ct = df5\n",
    "\n",
    "ct.plot.pie(subplots=True,\n",
    "            autopct='%1.1f%%',\n",
    "            title='Education Distribution',\n",
    "            \n",
    "            legend=None,\n",
    "            \n",
    "           )\n",
    "\n",
    "plt.show()"
   ]
  },
  {
   "cell_type": "code",
   "execution_count": 20,
   "id": "3d068e0e-0788-4249-beb8-8d2ea230f44a",
   "metadata": {},
   "outputs": [],
   "source": [
    "# AGE DISTRIBUTION # VALMIS"
   ]
  },
  {
   "cell_type": "code",
   "execution_count": 21,
   "id": "b8f0f404-8cb0-4dca-a271-3528ce05e0fc",
   "metadata": {},
   "outputs": [],
   "source": [
    "age_group_labels = [\n",
    "    'Adults 19-25', 'Adults 26-34',\n",
    "    'Adults 35-54',  'Adults 55-64',  'Seniors 65+'\n",
    "]\n",
    "a_age = []\n",
    "b_age = []\n",
    "c_age = []\n",
    "d_age = []\n",
    "f_age = []"
   ]
  },
  {
   "cell_type": "code",
   "execution_count": 22,
   "id": "21cce234-7e69-4bda-8edb-0a8db61365d7",
   "metadata": {},
   "outputs": [],
   "source": [
    "df7=pd.DataFrame(workplacesurvey['age'])"
   ]
  },
  {
   "cell_type": "code",
   "execution_count": 23,
   "id": "12ecca7f-d04e-426a-a8ce-dd54b2365f37",
   "metadata": {},
   "outputs": [],
   "source": [
    "a_age=df7[df7['age']<=29]\n",
    "b_age=df7[(df7['age']>=30) & (df7['age']<=39)]\n",
    "c_age=df7[(df7['age']>=40) & (df7['age']<=49)]\n",
    "d_age=df7[(df7['age']>=50) & (df7['age']<=59)]\n",
    "f_age=df7[(df7['age']>=60)]\n"
   ]
  },
  {
   "cell_type": "code",
   "execution_count": 24,
   "id": "7947daa2-a630-4e6e-81c7-b91ddb2b271c",
   "metadata": {},
   "outputs": [
    {
     "data": {
      "text/html": [
       "<div>\n",
       "<style scoped>\n",
       "    .dataframe tbody tr th:only-of-type {\n",
       "        vertical-align: middle;\n",
       "    }\n",
       "\n",
       "    .dataframe tbody tr th {\n",
       "        vertical-align: top;\n",
       "    }\n",
       "\n",
       "    .dataframe thead th {\n",
       "        text-align: right;\n",
       "    }\n",
       "</style>\n",
       "<table border=\"1\" class=\"dataframe\">\n",
       "  <thead>\n",
       "    <tr style=\"text-align: right;\">\n",
       "      <th></th>\n",
       "      <th>age</th>\n",
       "    </tr>\n",
       "  </thead>\n",
       "  <tbody>\n",
       "    <tr>\n",
       "      <th>1</th>\n",
       "      <td>29</td>\n",
       "    </tr>\n",
       "    <tr>\n",
       "      <th>4</th>\n",
       "      <td>24</td>\n",
       "    </tr>\n",
       "    <tr>\n",
       "      <th>16</th>\n",
       "      <td>26</td>\n",
       "    </tr>\n",
       "    <tr>\n",
       "      <th>25</th>\n",
       "      <td>26</td>\n",
       "    </tr>\n",
       "    <tr>\n",
       "      <th>26</th>\n",
       "      <td>26</td>\n",
       "    </tr>\n",
       "    <tr>\n",
       "      <th>29</th>\n",
       "      <td>21</td>\n",
       "    </tr>\n",
       "    <tr>\n",
       "      <th>30</th>\n",
       "      <td>21</td>\n",
       "    </tr>\n",
       "    <tr>\n",
       "      <th>34</th>\n",
       "      <td>28</td>\n",
       "    </tr>\n",
       "    <tr>\n",
       "      <th>41</th>\n",
       "      <td>29</td>\n",
       "    </tr>\n",
       "    <tr>\n",
       "      <th>46</th>\n",
       "      <td>22</td>\n",
       "    </tr>\n",
       "    <tr>\n",
       "      <th>48</th>\n",
       "      <td>27</td>\n",
       "    </tr>\n",
       "    <tr>\n",
       "      <th>49</th>\n",
       "      <td>29</td>\n",
       "    </tr>\n",
       "    <tr>\n",
       "      <th>53</th>\n",
       "      <td>25</td>\n",
       "    </tr>\n",
       "    <tr>\n",
       "      <th>58</th>\n",
       "      <td>20</td>\n",
       "    </tr>\n",
       "    <tr>\n",
       "      <th>68</th>\n",
       "      <td>28</td>\n",
       "    </tr>\n",
       "    <tr>\n",
       "      <th>77</th>\n",
       "      <td>22</td>\n",
       "    </tr>\n",
       "    <tr>\n",
       "      <th>79</th>\n",
       "      <td>27</td>\n",
       "    </tr>\n",
       "  </tbody>\n",
       "</table>\n",
       "</div>"
      ],
      "text/plain": [
       "    age\n",
       "1    29\n",
       "4    24\n",
       "16   26\n",
       "25   26\n",
       "26   26\n",
       "29   21\n",
       "30   21\n",
       "34   28\n",
       "41   29\n",
       "46   22\n",
       "48   27\n",
       "49   29\n",
       "53   25\n",
       "58   20\n",
       "68   28\n",
       "77   22\n",
       "79   27"
      ]
     },
     "execution_count": 24,
     "metadata": {},
     "output_type": "execute_result"
    }
   ],
   "source": [
    "a_age"
   ]
  },
  {
   "cell_type": "code",
   "execution_count": 25,
   "id": "eb08b055-1ca5-45e4-a391-119e2783b403",
   "metadata": {},
   "outputs": [],
   "source": [
    "a_age = a_age.count()\n",
    "b_age = b_age.count()\n",
    "c_age = c_age.count()\n",
    "d_age = d_age.count()\n",
    "f_age = f_age.count()\n",
    "\n"
   ]
  },
  {
   "cell_type": "code",
   "execution_count": 26,
   "id": "dea8698d-92e3-4b94-8c6d-0e6981bf0c79",
   "metadata": {},
   "outputs": [
    {
     "data": {
      "image/png": "[encoded data removed]",
      "text/plain": [
       "<Figure size 640x480 with 1 Axes>"
      ]
     },
     "metadata": {},
     "output_type": "display_data"
    }
   ],
   "source": [
    "labels = '18-29', '30-39', '40-49', '50-59', '+60'\n",
    "sizes = [a_age[0], b_age, c_age, d_age, f_age]\n",
    "\n",
    "plt.figure(figsize=(8, 6), dpi=80)\n",
    "plt.pie(sizes, autopct='%1.1f%%',)\n",
    "plt.legend(labels, loc='upper left')\n",
    "plt.title('Age Distribution')\n",
    "plt.show()"
   ]
  },
  {
   "cell_type": "code",
   "execution_count": 27,
   "id": "1d8dd756-94c2-46cd-9099-064d295676ee",
   "metadata": {},
   "outputs": [],
   "source": [
    "# AGE & EDU DISTRIBUTION KESKEN"
   ]
  },
  {
   "cell_type": "code",
   "execution_count": null,
   "id": "49c35592-75a6-49e0-8abc-7c7451b0ecdb",
   "metadata": {},
   "outputs": [],
   "source": []
  },
  {
   "cell_type": "code",
   "execution_count": null,
   "id": "813b507a-58b5-43d4-85a5-037d6d7c6e78",
   "metadata": {},
   "outputs": [],
   "source": []
  },
  {
   "cell_type": "code",
   "execution_count": 28,
   "id": "ee45eddc-191b-4a95-829c-99b56edb1275",
   "metadata": {},
   "outputs": [],
   "source": [
    "# SALARY AGE DISTRIBUTION # VALMIS // Tähän vielä toiseen legendiin jos sais oikeat värit?"
   ]
  },
  {
   "cell_type": "code",
   "execution_count": 29,
   "id": "7a0b2d7a-64be-429d-a370-770e108a37db",
   "metadata": {},
   "outputs": [],
   "source": [
    "# uudet dataframet\n",
    "first_age = workplacesurvey[['salary', 'age']][workplacesurvey['salary']>=1][workplacesurvey['age']<=29]\n",
    "\n",
    "second_age = workplacesurvey[['salary', 'age']][workplacesurvey['salary']>=1][(workplacesurvey['age']>=30) &(workplacesurvey['age']<=39)]\n",
    "\n",
    "third_age = workplacesurvey[['salary', 'age']][workplacesurvey['salary']>=1][(workplacesurvey['age']>=40) &(workplacesurvey['age']<=49)]\n",
    "\n",
    "fourth_age = workplacesurvey[['salary', 'age']][workplacesurvey['salary']>=1][(workplacesurvey['age']>=50) &(workplacesurvey['age']<=59)]\n",
    "\n",
    "fifth_age = workplacesurvey[['salary', 'age']][workplacesurvey['salary']>=1][(workplacesurvey['age']>=60)]\n"
   ]
  },
  {
   "cell_type": "code",
   "execution_count": 30,
   "id": "6cc54dd0-0702-4867-89da-bf08fd34860c",
   "metadata": {},
   "outputs": [],
   "source": [
    "first_age = first_age.mean()\n",
    "second_age = second_age.mean()\n",
    "third_age = third_age.mean()\n",
    "fourth_age = fourth_age.mean()\n",
    "fifth_age = fifth_age.mean()"
   ]
  },
  {
   "cell_type": "code",
   "execution_count": null,
   "id": "1be9e32e-2ba7-4b4a-8831-0d5a34a1819e",
   "metadata": {},
   "outputs": [],
   "source": []
  },
  {
   "cell_type": "code",
   "execution_count": 31,
   "id": "53fc22a0-d23c-4540-b695-53b43c00df1a",
   "metadata": {},
   "outputs": [],
   "source": [
    "df4 = pd.DataFrame([first_age, second_age, third_age, fourth_age, fifth_age], index=['Adults 18-25', 'Adults 26-34',\n",
    "    'Adults 35-54',  'Adults 55-64',  'Seniors 65+'])"
   ]
  },
  {
   "cell_type": "code",
   "execution_count": 32,
   "id": "f74641b5-e927-43f0-9c2a-5ab823f0f4e6",
   "metadata": {},
   "outputs": [
    {
     "data": {
      "text/html": [
       "<div>\n",
       "<style scoped>\n",
       "    .dataframe tbody tr th:only-of-type {\n",
       "        vertical-align: middle;\n",
       "    }\n",
       "\n",
       "    .dataframe tbody tr th {\n",
       "        vertical-align: top;\n",
       "    }\n",
       "\n",
       "    .dataframe thead th {\n",
       "        text-align: right;\n",
       "    }\n",
       "</style>\n",
       "<table border=\"1\" class=\"dataframe\">\n",
       "  <thead>\n",
       "    <tr style=\"text-align: right;\">\n",
       "      <th></th>\n",
       "      <th>salary</th>\n",
       "      <th>age</th>\n",
       "    </tr>\n",
       "  </thead>\n",
       "  <tbody>\n",
       "    <tr>\n",
       "      <th>Adults 18-25</th>\n",
       "      <td>2422.000000</td>\n",
       "      <td>25.294118</td>\n",
       "    </tr>\n",
       "    <tr>\n",
       "      <th>Adults 26-34</th>\n",
       "      <td>2455.066667</td>\n",
       "      <td>34.566667</td>\n",
       "    </tr>\n",
       "    <tr>\n",
       "      <th>Adults 35-54</th>\n",
       "      <td>2624.304348</td>\n",
       "      <td>42.956522</td>\n",
       "    </tr>\n",
       "    <tr>\n",
       "      <th>Adults 55-64</th>\n",
       "      <td>2903.090909</td>\n",
       "      <td>54.181818</td>\n",
       "    </tr>\n",
       "    <tr>\n",
       "      <th>Seniors 65+</th>\n",
       "      <td>3119.000000</td>\n",
       "      <td>61.000000</td>\n",
       "    </tr>\n",
       "  </tbody>\n",
       "</table>\n",
       "</div>"
      ],
      "text/plain": [
       "                   salary        age\n",
       "Adults 18-25  2422.000000  25.294118\n",
       "Adults 26-34  2455.066667  34.566667\n",
       "Adults 35-54  2624.304348  42.956522\n",
       "Adults 55-64  2903.090909  54.181818\n",
       "Seniors 65+   3119.000000  61.000000"
      ]
     },
     "execution_count": 32,
     "metadata": {},
     "output_type": "execute_result"
    }
   ],
   "source": [
    "df4"
   ]
  },
  {
   "cell_type": "code",
   "execution_count": 33,
   "id": "ac33c25c-71dd-4174-9252-69164f39e0cb",
   "metadata": {},
   "outputs": [
    {
     "data": {
      "text/plain": [
       "pandas.core.frame.DataFrame"
      ]
     },
     "execution_count": 33,
     "metadata": {},
     "output_type": "execute_result"
    }
   ],
   "source": [
    "type(df4)"
   ]
  },
  {
   "cell_type": "code",
   "execution_count": 34,
   "id": "81da99a2-a663-4da9-8ec1-5713fd5eb814",
   "metadata": {},
   "outputs": [
    {
     "data": {
      "image/png": "[encoded data removed]",
      "text/plain": [
       "<Figure size 800x800 with 1 Axes>"
      ]
     },
     "metadata": {},
     "output_type": "display_data"
    }
   ],
   "source": [
    "plt.figure(figsize=(8, 8))\n",
    "\n",
    "#Main group\n",
    "sizes = df4['salary']\n",
    "labels = ['Salary ages 18-29', 'Salary ages 29-39',\n",
    "    'Salary ages 39-49',  'Salary ages 49-59',  'Salary ages 60+']\n",
    "colors = ['#f2f90f', '#c6ba3c','#df8a1c', '#eb4f14', '#ff4600']\n",
    "\n",
    "#Inside group\n",
    "labels_subgroup = ['Ages 18-29', 'Ages 30-39',\n",
    "    'Ages 40-49',  'Ages 50-59',  'Ages 60+']\n",
    "sizes_subgroup = df4['age']\n",
    "colors_subgroup = ['#39d3b5', '#32bd7e', '#2bb653', '#23d21e', '#56f606']\n",
    "\n",
    "outside_donut = plt.pie(sizes, labels=labels, colors=colors,\n",
    " startangle=90, frame=True,\n",
    " autopct='%.2f%%',\n",
    " pctdistance =0.85)\n",
    "\n",
    "\n",
    "inside_label = df4['age'].round(1)        \n",
    "inside_donut = plt.pie(sizes_subgroup, labels=inside_label,\n",
    " colors=colors_subgroup, radius=0.7,\n",
    " startangle=90, labeldistance=0.6,\n",
    "autopct='%1.2f%%',\n",
    "textprops={'fontsize': 8},\n",
    " pctdistance =0.4)\n",
    "\n",
    "\n",
    "centre_circle = plt.Circle((0, 0), 0.4, color='white', linewidth=0)\n",
    "fig = plt.gcf()\n",
    "fig.gca().add_artist(centre_circle)\n",
    "plt.title('Average salaries between ages & average ages')\n",
    "plt.axis('equal')\n",
    "\n",
    "first_legend = plt.legend(labels_subgroup, title='Age groups',  loc=(1.03,0.6))\n",
    "ax = plt.gca().add_artist(first_legend)\n",
    "second_legend = plt.legend(labels, title='Salary groups', loc=(1.03,0.8))\n",
    "ax = plt.gca().add_artist(second_legend)\n",
    "\n",
    "plt.tight_layout()\n",
    "plt.show()"
   ]
  },
  {
   "cell_type": "code",
   "execution_count": null,
   "id": "d11c317d-1e58-4702-96b8-be1851839d4e",
   "metadata": {},
   "outputs": [],
   "source": []
  },
  {
   "cell_type": "code",
   "execution_count": null,
   "id": "4ed90255-9049-48fe-b3d2-33496e820b82",
   "metadata": {},
   "outputs": [],
   "source": []
  },
  {
   "cell_type": "code",
   "execution_count": 35,
   "id": "0e686904-a28e-470c-9fea-efbb1e447cd5",
   "metadata": {},
   "outputs": [],
   "source": [
    "### EI KÄYTÖSSÄ ### ### EI KÄYTÖSSÄ ### ### EI KÄYTÖSSÄ ### ### EI KÄYTÖSSÄ ### "
   ]
  },
  {
   "cell_type": "code",
   "execution_count": 36,
   "id": "034648fd-b304-45fc-8d85-08afb3b227e0",
   "metadata": {},
   "outputs": [
    {
     "ename": "SyntaxError",
     "evalue": "positional argument follows keyword argument (1421283636.py, line 11)",
     "output_type": "error",
     "traceback": [
      "\u001b[1;36m  File \u001b[1;32m\"C:\\Users\\Omistaja\\AppData\\Local\\Temp\\ipykernel_5452\\1421283636.py\"\u001b[1;36m, line \u001b[1;32m11\u001b[0m\n\u001b[1;33m    ax.barh(y=first_age['salary'], salaries, align='center')\u001b[0m\n\u001b[1;37m                                                           ^\u001b[0m\n\u001b[1;31mSyntaxError\u001b[0m\u001b[1;31m:\u001b[0m positional argument follows keyword argument\n"
     ]
    }
   ],
   "source": [
    "plt.rcdefaults()\n",
    "fig, ax = plt.subplots()\n",
    "\n",
    "# Example data\n",
    "labels = ('18-29', '30-39', '40-49', '50-59', '+60')\n",
    "salaries = ('1000', '2000', '3000', '4000', '5000')\n",
    "\n",
    "\n",
    "\n",
    "\n",
    "ax.barh(y=first_age['salary'], salaries, align='center')\n",
    "ax.set_yticks(y_pos, labels=labels)\n",
    "\n",
    "ax.invert_yaxis()  # labels read top-to-bottom\n",
    "ax.set_xlabel('Salary')\n",
    "ax.set_title('Ages 18-29 salary')\n",
    "\n",
    "plt.show()"
   ]
  },
  {
   "cell_type": "code",
   "execution_count": null,
   "id": "d56d23a5-42d6-4595-9c18-579d3143cd5c",
   "metadata": {},
   "outputs": [],
   "source": [
    "fig, ax = plt.subplots(5)\n",
    "first_age.sort_values(by=['age', 'salary']).plot.bar(x= 'age' ,y = ['salary'], rot = 10, ax = ax)\n",
    "ax.set_title('Salary by age')\n",
    "\n",
    "second_age.sort_values(by=['age', 'salary']).plot.bar(x= 'age' ,y = ['salary'], rot = 10, ax = ax)\n",
    "ax.set_title('Salary by age')\n",
    "\n",
    "third_age.sort_values(by=['age', 'salary']).plot.bar(x= 'age' ,y = ['salary'], rot = 10, ax = ax)\n",
    "ax.set_title('Salary by age')\n",
    "\n",
    "fourth_age.sort_values(by=['age', 'salary']).plot.bar(x= 'age' ,y = ['salary'], rot = 10, ax = ax)\n",
    "ax.set_title('Salary by age')\n",
    "\n",
    "fifth_age.sort_values(by=['age', 'salary']).plot.bar(x= 'age' ,y = ['salary'], rot = 10, ax = ax)\n",
    "ax.set_title('Salary by age')\n"
   ]
  },
  {
   "cell_type": "code",
   "execution_count": null,
   "id": "2e7304f6-a8d0-4213-b93b-9f01a7c36788",
   "metadata": {},
   "outputs": [],
   "source": [
    "\n",
    "first_age.hist(density=True, bins=20)\n",
    "plt.ylabel('Probability')\n",
    "second_age.hist()\n",
    "third_age.hist('salary')\n",
    "fourth_age.hist('salary')\n",
    "fifth_age.hist('salary')\n"
   ]
  },
  {
   "cell_type": "code",
   "execution_count": null,
   "id": "fc97b342-2714-4f44-91da-7f2d8fff0cdf",
   "metadata": {},
   "outputs": [],
   "source": [
    "label = age_group_labels\n",
    "plt.hist(first_age(column['age']))\n",
    "plt.hist(second_age)\n",
    "plt.hist(third_age)\n",
    "plt.hist(fourth_age)\n",
    "plt.hist(fifth_age)\n",
    "\n",
    "plt.show()"
   ]
  },
  {
   "cell_type": "code",
   "execution_count": null,
   "id": "1a986d80-32aa-45a1-8bf0-37a94b5dd990",
   "metadata": {},
   "outputs": [],
   "source": [
    "# Keskiarvot palkka\n",
    "df55 = first_age[\"salary\"].mean()\n",
    "df56 = second_age[\"salary\"].mean()\n",
    "df57 = third_age[\"salary\"].mean()\n",
    "df58 = fourth_age[\"salary\"].mean()\n",
    "df59 = fifth_age[\"salary\"].mean()"
   ]
  },
  {
   "cell_type": "code",
   "execution_count": null,
   "id": "80fe6a2d-0d47-4bde-8544-c4ad6ab9f8c3",
   "metadata": {},
   "outputs": [],
   "source": [
    "# Keskiarvot ikä\n",
    "df65 = first_age[\"age\"].mean()\n",
    "df66 = second_age[\"age\"].mean()\n",
    "df67 = third_age[\"age\"].mean()\n",
    "df68 = fourth_age[\"age\"].mean()\n",
    "df69 = fifth_age[\"age\"].mean()"
   ]
  },
  {
   "cell_type": "code",
   "execution_count": null,
   "id": "4cba5e9a-1a0e-4613-a032-3cf252ad34ec",
   "metadata": {},
   "outputs": [],
   "source": [
    "workplacesurvey['salary'].hist(bins = bins)\n",
    "\n",
    "plt.xlabel('Average Salary')\n",
    "plt.ylabel('Count, n=' + str(n))"
   ]
  },
  {
   "cell_type": "code",
   "execution_count": null,
   "id": "48ca24b3-b5db-4ad1-a58a-8a1043370afb",
   "metadata": {},
   "outputs": [],
   "source": [
    "### EI KÄYTÖSSÄ ### ### EI KÄYTÖSSÄ ### ### EI KÄYTÖSSÄ ### ### EI KÄYTÖSSÄ ### "
   ]
  },
  {
   "cell_type": "code",
   "execution_count": null,
   "id": "f593759d-43de-4c5c-8484-e371a7385541",
   "metadata": {},
   "outputs": [],
   "source": [
    "# AVERAGE SALARY CLASS DISTRIBUTION # VALMIS"
   ]
  },
  {
   "cell_type": "code",
   "execution_count": null,
   "id": "f8a7dd9f-fc37-4691-91b8-574f758526b4",
   "metadata": {},
   "outputs": [],
   "source": [
    "bins = [1000, 2000, 3000, 4000, 7000]"
   ]
  },
  {
   "cell_type": "code",
   "execution_count": null,
   "id": "f65d80a0-9eb8-4b67-8479-6433502c0935",
   "metadata": {},
   "outputs": [],
   "source": [
    "workplacesurvey['income_class'] = pd.cut(workplacesurvey['salary'], bins = bins)"
   ]
  },
  {
   "cell_type": "code",
   "execution_count": null,
   "id": "29808f38-9afa-49f9-9173-4f78118a39c6",
   "metadata": {},
   "outputs": [],
   "source": [
    "df3 = pd.crosstab(workplacesurvey['income_class'], 'Count')\n",
    "\n",
    "df3.columns.name = ''\n",
    "\n",
    "# Percentages\n",
    "n = df3['Count'].sum()\n",
    "df3['%'] = df3 / n * 100"
   ]
  },
  {
   "cell_type": "code",
   "execution_count": null,
   "id": "1fd9d656-fce6-418c-aba8-d35591e1db25",
   "metadata": {},
   "outputs": [],
   "source": [
    "df3"
   ]
  },
  {
   "cell_type": "code",
   "execution_count": null,
   "id": "36f3ad25-c5d4-4bb9-b1e6-daa8e6f0280d",
   "metadata": {},
   "outputs": [],
   "source": [
    "df3.index = df3.index.astype(str)\n",
    "df3.loc['Total'] = df3.sum()\n",
    "df3"
   ]
  },
  {
   "cell_type": "code",
   "execution_count": null,
   "id": "90d84288-5974-439b-9f15-c0e410fb1718",
   "metadata": {},
   "outputs": [],
   "source": [
    "df3.style.format({'Count': '{:.0f}', '%': '{:.1f} %'})"
   ]
  },
  {
   "cell_type": "code",
   "execution_count": null,
   "id": "626f15ac-fa97-4169-b04f-ba8929394181",
   "metadata": {},
   "outputs": [],
   "source": [
    "workplacesurvey['salary'].hist(bins = bins)\n",
    "\n",
    "plt.xlabel('Average Salary')\n",
    "plt.ylabel('Count, n=' + str(n))"
   ]
  },
  {
   "cell_type": "code",
   "execution_count": null,
   "id": "05046ac8-fc3d-4003-a231-9215ac14916f",
   "metadata": {},
   "outputs": [],
   "source": []
  },
  {
   "cell_type": "code",
   "execution_count": null,
   "id": "7b54050d-4216-4d22-a573-53a4b17c801b",
   "metadata": {},
   "outputs": [],
   "source": []
  },
  {
   "cell_type": "code",
   "execution_count": null,
   "id": "4caa608e-5a66-46df-960a-26ee624b01a0",
   "metadata": {},
   "outputs": [],
   "source": [
    "# Salary per month & satisfaction with working environment // VALMIS"
   ]
  },
  {
   "cell_type": "code",
   "execution_count": 37,
   "id": "cd55a99b-965d-46bc-955a-ffc2102576ac",
   "metadata": {},
   "outputs": [],
   "source": [
    "satisfaction = pd.read_excel('WorkPlaceSatisfactionSurveyData.xlsx', index_col = False )"
   ]
  },
  {
   "cell_type": "code",
   "execution_count": null,
   "id": "55b3d6d2-e7df-4690-b337-38626efdaeaa",
   "metadata": {},
   "outputs": [],
   "source": []
  },
  {
   "cell_type": "code",
   "execution_count": 38,
   "id": "66d80325-1044-499d-bb83-a0c03c41d49d",
   "metadata": {},
   "outputs": [],
   "source": [
    "sat_work1 = satisfaction[['salary', 'sat_workingEnvironment']][satisfaction['sat_workingEnvironment']==1].sort_values('sat_workingEnvironment')"
   ]
  },
  {
   "cell_type": "code",
   "execution_count": 39,
   "id": "ee882f3a-56ca-498c-af11-e2a270416bbc",
   "metadata": {},
   "outputs": [],
   "source": [
    "sat_work2 = satisfaction[['salary', 'sat_workingEnvironment']][satisfaction['sat_workingEnvironment']==2].sort_values('sat_workingEnvironment')"
   ]
  },
  {
   "cell_type": "code",
   "execution_count": 40,
   "id": "2d0fd03a-dcbb-49af-8c81-2a4825f746ab",
   "metadata": {},
   "outputs": [],
   "source": [
    "sat_work3 = satisfaction[['salary', 'sat_workingEnvironment']][satisfaction['sat_workingEnvironment']==3].sort_values('sat_workingEnvironment')"
   ]
  },
  {
   "cell_type": "code",
   "execution_count": 41,
   "id": "134c3754-f233-45ab-a1d4-9721b3a49214",
   "metadata": {},
   "outputs": [],
   "source": [
    "sat_work4 = satisfaction[['salary', 'sat_workingEnvironment']][satisfaction['sat_workingEnvironment']==4].sort_values('sat_workingEnvironment')"
   ]
  },
  {
   "cell_type": "code",
   "execution_count": 42,
   "id": "ebda6291-1b80-4b84-b1f2-660da0eaa1d9",
   "metadata": {},
   "outputs": [],
   "source": [
    "sat_work5 = satisfaction[['salary', 'sat_workingEnvironment']][satisfaction['sat_workingEnvironment']==5].sort_values('sat_workingEnvironment')"
   ]
  },
  {
   "cell_type": "code",
   "execution_count": 43,
   "id": "3dcf515b-470b-422c-a32e-672f07451624",
   "metadata": {},
   "outputs": [
    {
     "data": {
      "text/html": [
       "<div>\n",
       "<style scoped>\n",
       "    .dataframe tbody tr th:only-of-type {\n",
       "        vertical-align: middle;\n",
       "    }\n",
       "\n",
       "    .dataframe tbody tr th {\n",
       "        vertical-align: top;\n",
       "    }\n",
       "\n",
       "    .dataframe thead th {\n",
       "        text-align: right;\n",
       "    }\n",
       "</style>\n",
       "<table border=\"1\" class=\"dataframe\">\n",
       "  <thead>\n",
       "    <tr style=\"text-align: right;\">\n",
       "      <th></th>\n",
       "      <th>salary</th>\n",
       "      <th>sat_workingEnvironment</th>\n",
       "    </tr>\n",
       "  </thead>\n",
       "  <tbody>\n",
       "    <tr>\n",
       "      <th>5</th>\n",
       "      <td>1910</td>\n",
       "      <td>5</td>\n",
       "    </tr>\n",
       "    <tr>\n",
       "      <th>16</th>\n",
       "      <td>5225</td>\n",
       "      <td>5</td>\n",
       "    </tr>\n",
       "    <tr>\n",
       "      <th>20</th>\n",
       "      <td>2691</td>\n",
       "      <td>5</td>\n",
       "    </tr>\n",
       "    <tr>\n",
       "      <th>32</th>\n",
       "      <td>6278</td>\n",
       "      <td>5</td>\n",
       "    </tr>\n",
       "    <tr>\n",
       "      <th>36</th>\n",
       "      <td>2729</td>\n",
       "      <td>5</td>\n",
       "    </tr>\n",
       "    <tr>\n",
       "      <th>50</th>\n",
       "      <td>2106</td>\n",
       "      <td>5</td>\n",
       "    </tr>\n",
       "    <tr>\n",
       "      <th>51</th>\n",
       "      <td>2261</td>\n",
       "      <td>5</td>\n",
       "    </tr>\n",
       "    <tr>\n",
       "      <th>64</th>\n",
       "      <td>2691</td>\n",
       "      <td>5</td>\n",
       "    </tr>\n",
       "    <tr>\n",
       "      <th>65</th>\n",
       "      <td>2027</td>\n",
       "      <td>5</td>\n",
       "    </tr>\n",
       "    <tr>\n",
       "      <th>70</th>\n",
       "      <td>2495</td>\n",
       "      <td>5</td>\n",
       "    </tr>\n",
       "    <tr>\n",
       "      <th>71</th>\n",
       "      <td>3470</td>\n",
       "      <td>5</td>\n",
       "    </tr>\n",
       "  </tbody>\n",
       "</table>\n",
       "</div>"
      ],
      "text/plain": [
       "    salary  sat_workingEnvironment\n",
       "5     1910                       5\n",
       "16    5225                       5\n",
       "20    2691                       5\n",
       "32    6278                       5\n",
       "36    2729                       5\n",
       "50    2106                       5\n",
       "51    2261                       5\n",
       "64    2691                       5\n",
       "65    2027                       5\n",
       "70    2495                       5\n",
       "71    3470                       5"
      ]
     },
     "execution_count": 43,
     "metadata": {},
     "output_type": "execute_result"
    }
   ],
   "source": [
    "sat_work5"
   ]
  },
  {
   "cell_type": "code",
   "execution_count": 44,
   "id": "9a4ca8bb-8d16-49e9-ae78-086ef2060afa",
   "metadata": {},
   "outputs": [],
   "source": [
    "sat1 = round(sat_work1['salary'].mean(), 1)"
   ]
  },
  {
   "cell_type": "code",
   "execution_count": 45,
   "id": "f5ceaeef-ed48-4460-a693-dcd974b3a98d",
   "metadata": {},
   "outputs": [],
   "source": [
    "sat2 = round(sat_work2['salary'].mean(), 1)"
   ]
  },
  {
   "cell_type": "code",
   "execution_count": 46,
   "id": "83147d10-bdf4-473f-a04a-79797ba875f2",
   "metadata": {},
   "outputs": [],
   "source": [
    "sat3 = round(sat_work3['salary'].mean(), 1)"
   ]
  },
  {
   "cell_type": "code",
   "execution_count": 47,
   "id": "75c3b659-4158-48f8-82f7-cab9e2543ad6",
   "metadata": {},
   "outputs": [],
   "source": [
    "sat4 = round(sat_work4['salary'].mean(), 1)"
   ]
  },
  {
   "cell_type": "code",
   "execution_count": 48,
   "id": "0f83ae27-f50e-4c58-b7ef-1f389efe3ad7",
   "metadata": {},
   "outputs": [],
   "source": [
    "sat5 = round(sat_work5['salary'].mean(), 1)"
   ]
  },
  {
   "cell_type": "code",
   "execution_count": 49,
   "id": "471d20db-a0ac-4539-b8c3-d9c5e2e5af30",
   "metadata": {},
   "outputs": [],
   "source": [
    "sat_count1 = sat_work1['sat_workingEnvironment'].count()"
   ]
  },
  {
   "cell_type": "code",
   "execution_count": 50,
   "id": "42f0f491-54f0-42a5-a5da-cc311550dd93",
   "metadata": {},
   "outputs": [],
   "source": [
    "sat_count2 = sat_work2['sat_workingEnvironment'].count()"
   ]
  },
  {
   "cell_type": "code",
   "execution_count": 51,
   "id": "0c72aa7f-d45c-42b1-bef1-f8c97c2a5db1",
   "metadata": {},
   "outputs": [],
   "source": [
    "sat_count3 = sat_work3['sat_workingEnvironment'].count()"
   ]
  },
  {
   "cell_type": "code",
   "execution_count": 52,
   "id": "a34e19c5-eb6c-4010-a5a9-2957327ba272",
   "metadata": {},
   "outputs": [],
   "source": [
    "sat_count4 = sat_work4['sat_workingEnvironment'].count()"
   ]
  },
  {
   "cell_type": "code",
   "execution_count": 53,
   "id": "2c564fc5-999f-4198-ab28-708f509b3b19",
   "metadata": {},
   "outputs": [],
   "source": [
    "sat_count5 = sat_work5['sat_workingEnvironment'].count()"
   ]
  },
  {
   "cell_type": "code",
   "execution_count": 54,
   "id": "449e7f3e-39f3-44c7-b47f-097e0eaadfe7",
   "metadata": {},
   "outputs": [
    {
     "data": {
      "text/plain": [
       "30"
      ]
     },
     "execution_count": 54,
     "metadata": {},
     "output_type": "execute_result"
    }
   ],
   "source": [
    "sat_count3"
   ]
  },
  {
   "cell_type": "code",
   "execution_count": 55,
   "id": "c51cffb6-1740-432b-b24a-157294f4eb0f",
   "metadata": {},
   "outputs": [],
   "source": [
    "#sat_worken = pd.crosstab(satisfaction['salary'], 'Count')"
   ]
  },
  {
   "cell_type": "code",
   "execution_count": 56,
   "id": "544e74c5-22df-496e-9860-13d1e0c358ad",
   "metadata": {},
   "outputs": [],
   "source": [
    "#sat_worken"
   ]
  },
  {
   "cell_type": "code",
   "execution_count": 57,
   "id": "5a5995a8-cf57-43b6-8596-a14b8c976155",
   "metadata": {},
   "outputs": [],
   "source": [
    "#sat_salary = pd.crosstab(satisfaction['salary'], 'Count')"
   ]
  },
  {
   "cell_type": "code",
   "execution_count": 58,
   "id": "7f1822d6-3e0f-4ddf-8010-27d19fc24ae7",
   "metadata": {},
   "outputs": [],
   "source": [
    "#sat_salary"
   ]
  },
  {
   "cell_type": "code",
   "execution_count": 59,
   "id": "90457d18-0224-491b-b3fa-c421321c6470",
   "metadata": {},
   "outputs": [
    {
     "ename": "SyntaxError",
     "evalue": "unexpected EOF while parsing (1138757307.py, line 1)",
     "output_type": "error",
     "traceback": [
      "\u001b[1;36m  File \u001b[1;32m\"C:\\Users\\Omistaja\\AppData\\Local\\Temp\\ipykernel_5452\\1138757307.py\"\u001b[1;36m, line \u001b[1;32m1\u001b[0m\n\u001b[1;33m    sat_worken = satisfaction[\u001b[0m\n\u001b[1;37m                              ^\u001b[0m\n\u001b[1;31mSyntaxError\u001b[0m\u001b[1;31m:\u001b[0m unexpected EOF while parsing\n"
     ]
    }
   ],
   "source": [
    "#sat_worken = satisfaction["
   ]
  },
  {
   "cell_type": "code",
   "execution_count": 60,
   "id": "cd671f32-84ac-414b-b9ac-d20d4f17ee09",
   "metadata": {},
   "outputs": [
    {
     "ename": "NameError",
     "evalue": "name 'sat_worken' is not defined",
     "output_type": "error",
     "traceback": [
      "\u001b[1;31m---------------------------------------------------------------------------\u001b[0m",
      "\u001b[1;31mNameError\u001b[0m                                 Traceback (most recent call last)",
      "\u001b[1;32m~\\AppData\\Local\\Temp\\ipykernel_5452\\384185959.py\u001b[0m in \u001b[0;36m<module>\u001b[1;34m\u001b[0m\n\u001b[1;32m----> 1\u001b[1;33m \u001b[0msat_worken\u001b[0m\u001b[1;33m.\u001b[0m\u001b[0mindex\u001b[0m\u001b[1;33m=\u001b[0m\u001b[1;33m[\u001b[0m\u001b[1;34m'Very unsatisfied'\u001b[0m\u001b[1;33m,\u001b[0m \u001b[1;34m'Unsatisfied'\u001b[0m\u001b[1;33m,\u001b[0m \u001b[1;34m'Neutral'\u001b[0m\u001b[1;33m,\u001b[0m \u001b[1;34m'Satisfied'\u001b[0m\u001b[1;33m,\u001b[0m \u001b[1;34m'Very Satisfied'\u001b[0m\u001b[1;33m]\u001b[0m\u001b[1;33m\u001b[0m\u001b[1;33m\u001b[0m\u001b[0m\n\u001b[0m",
      "\u001b[1;31mNameError\u001b[0m: name 'sat_worken' is not defined"
     ]
    }
   ],
   "source": [
    "#sat_worken.index=['Very unsatisfied', 'Unsatisfied', 'Neutral', 'Satisfied', 'Very Satisfied']"
   ]
  },
  {
   "cell_type": "code",
   "execution_count": null,
   "id": "aeb278ac-0c38-4db0-b209-767c968e0ed9",
   "metadata": {},
   "outputs": [],
   "source": [
    "#sat_worken"
   ]
  },
  {
   "cell_type": "code",
   "execution_count": null,
   "id": "a88564d9-9ea3-4a69-8676-931b7ae63d82",
   "metadata": {},
   "outputs": [],
   "source": [
    "#sat_worken.columns.name=''"
   ]
  },
  {
   "cell_type": "code",
   "execution_count": null,
   "id": "0c7d58d9-6d55-4057-8ff7-6c6620e7db92",
   "metadata": {},
   "outputs": [],
   "source": [
    "#sat_worken"
   ]
  },
  {
   "cell_type": "code",
   "execution_count": 61,
   "id": "675391b5-ab2a-4628-a954-5678b7fe0573",
   "metadata": {},
   "outputs": [
    {
     "data": {
      "image/png": "[encoded data removed]",
      "text/plain": [
       "<Figure size 800x800 with 1 Axes>"
      ]
     },
     "metadata": {},
     "output_type": "display_data"
    }
   ],
   "source": [
    "plt.figure(figsize=(8, 8))\n",
    "\n",
    "#Main group\n",
    "sizes = [sat_count1, sat_count2, sat_count3, sat_count4, sat_count5]  \n",
    "labels = ['Very unsatisfied', 'Unsatisfied', 'Neutral', 'Satisfied', 'Very Satisfied']\n",
    "#colors = ['#39d3b5', '#32bd7e', '#2bb653', '#23d21e', '#56f606']\n",
    "#explode = (0.1, 0.1, 0.1, 0.1, 0.1)\n",
    "colors = ['#f03716', '#f4b90e', '#f2f903', '#85f903', '#13df06']\n",
    "\n",
    "#Inside group\n",
    "labels_subgroup = [sat1, sat2, sat3, sat4, sat5,]  \n",
    "sizes_subgroup = [sat1, sat2, sat3, sat4, sat5,]\n",
    "\n",
    "colors_subgroup = ['#f2f90f', '#c6ba3c','#df8a1c', '#eb4f14', '#ff4600']\n",
    "\n",
    "outside_donut = plt.pie(sizes, labels=labels, colors=colors,\n",
    " startangle=90, frame=False,\n",
    " autopct='%.2f%%',\n",
    " pctdistance =0.85)\n",
    "\n",
    "\n",
    "inside_label = labels_subgroup       \n",
    "inside_donut = plt.pie(sizes_subgroup, labels=inside_label,\n",
    "colors=colors, radius=0.7,\n",
    " startangle=90, labeldistance=0.6,\n",
    "\n",
    "textprops={'fontsize': 10},\n",
    "pctdistance =0.4)\n",
    "\n",
    "\n",
    "centre_circle = plt.Circle((0, 0), 0.4, color='white', linewidth=0)\n",
    "fig = plt.gcf()\n",
    "fig.gca().add_artist(centre_circle)\n",
    "plt.title('Satisfaction to work environment with average incomes')\n",
    "plt.axis('equal')\n",
    "\n",
    "first_legend = plt.legend([sat_count1, sat_count2, sat_count3, sat_count4, sat_count5], title='Count',  loc=(1.03,0.6))\n",
    "ax = plt.gca().add_artist(first_legend)\n",
    "#second_legend = plt.legend(labels, title='Satisfaction groups', loc=(1.03,0.8))\n",
    "#ax = plt.gca().add_artist(second_legend)\n",
    "\n",
    "plt.tight_layout()\n",
    "plt.show()"
   ]
  },
  {
   "cell_type": "code",
   "execution_count": null,
   "id": "d75921fa-6093-4e72-90b5-c9560d4f62f9",
   "metadata": {},
   "outputs": [],
   "source": [
    "# EDUCATION & SAT SALARY "
   ]
  },
  {
   "cell_type": "code",
   "execution_count": 62,
   "id": "220a55b6-63ed-4ae1-b03a-3fe696f154de",
   "metadata": {},
   "outputs": [
    {
     "data": {
      "text/plain": [
       "'educationsat_salary'"
      ]
     },
     "execution_count": 62,
     "metadata": {},
     "output_type": "execute_result"
    }
   ],
   "source": [
    "'education' 'sat_salary'"
   ]
  },
  {
   "cell_type": "code",
   "execution_count": 63,
   "id": "8a849931-a316-414f-83fd-7ea36249ad49",
   "metadata": {},
   "outputs": [],
   "source": [
    "edusaca = pd.read_excel('WorkPlaceSatisfactionSurveyData.xlsx', index_col = False )"
   ]
  },
  {
   "cell_type": "code",
   "execution_count": 64,
   "id": "6c6ae32e-6af2-43e9-99ad-812434a71dec",
   "metadata": {},
   "outputs": [
    {
     "data": {
      "text/html": [
       "<div>\n",
       "<style scoped>\n",
       "    .dataframe tbody tr th:only-of-type {\n",
       "        vertical-align: middle;\n",
       "    }\n",
       "\n",
       "    .dataframe tbody tr th {\n",
       "        vertical-align: top;\n",
       "    }\n",
       "\n",
       "    .dataframe thead th {\n",
       "        text-align: right;\n",
       "    }\n",
       "</style>\n",
       "<table border=\"1\" class=\"dataframe\">\n",
       "  <thead>\n",
       "    <tr style=\"text-align: right;\">\n",
       "      <th>col_0</th>\n",
       "      <th>Count</th>\n",
       "    </tr>\n",
       "    <tr>\n",
       "      <th>education</th>\n",
       "      <th></th>\n",
       "    </tr>\n",
       "  </thead>\n",
       "  <tbody>\n",
       "    <tr>\n",
       "      <th>1.0</th>\n",
       "      <td>27</td>\n",
       "    </tr>\n",
       "    <tr>\n",
       "      <th>2.0</th>\n",
       "      <td>30</td>\n",
       "    </tr>\n",
       "    <tr>\n",
       "      <th>3.0</th>\n",
       "      <td>22</td>\n",
       "    </tr>\n",
       "    <tr>\n",
       "      <th>4.0</th>\n",
       "      <td>2</td>\n",
       "    </tr>\n",
       "  </tbody>\n",
       "</table>\n",
       "</div>"
      ],
      "text/plain": [
       "col_0      Count\n",
       "education       \n",
       "1.0           27\n",
       "2.0           30\n",
       "3.0           22\n",
       "4.0            2"
      ]
     },
     "execution_count": 64,
     "metadata": {},
     "output_type": "execute_result"
    }
   ],
   "source": [
    "edu=pd.crosstab(edusaca['education'], 'Count')\n",
    "edu"
   ]
  },
  {
   "cell_type": "code",
   "execution_count": 65,
   "id": "166e982a-06ed-4a52-a015-020aedef4f44",
   "metadata": {},
   "outputs": [],
   "source": [
    "edu['%'] = edu['Count'] / edu['Count'].sum() * 100"
   ]
  },
  {
   "cell_type": "code",
   "execution_count": 66,
   "id": "39fc5fe1-8278-40e4-91c8-8c856913733c",
   "metadata": {},
   "outputs": [],
   "source": [
    "edu.columns.name=''"
   ]
  },
  {
   "cell_type": "code",
   "execution_count": 67,
   "id": "6b868ca7-b8d2-43cb-adbb-51960542e9ac",
   "metadata": {},
   "outputs": [],
   "source": [
    "edu.index=['Primary School', 'Secondary School', 'Bachelor Degree', 'Master Degree']"
   ]
  },
  {
   "cell_type": "code",
   "execution_count": 68,
   "id": "b7dd4b4e-3f1d-4fc5-ae42-13b36e1d560b",
   "metadata": {},
   "outputs": [],
   "source": [
    "sata=pd.crosstab(edusaca['sat_salary'], 'Count') #[edusaca['sat_workingEnvironment']==1] #.sort_values('sat_workingEnvironment')"
   ]
  },
  {
   "cell_type": "code",
   "execution_count": 69,
   "id": "8ec5b3dd-d7f3-4da1-bb13-61e844547e6c",
   "metadata": {},
   "outputs": [],
   "source": [
    "#edusaca['education'].sum()"
   ]
  },
  {
   "cell_type": "code",
   "execution_count": 70,
   "id": "96dab218-085c-4b9c-90d0-67c5fa632080",
   "metadata": {},
   "outputs": [],
   "source": [
    "sata.columns.name=''"
   ]
  },
  {
   "cell_type": "code",
   "execution_count": 71,
   "id": "d4c1a8b5-db10-44b0-9855-221c50065e22",
   "metadata": {},
   "outputs": [],
   "source": [
    "sata.index=['Very unsatisfied', 'Unsatisfied', 'Neutral', 'Satisfied', 'Very Satisfied']"
   ]
  },
  {
   "cell_type": "code",
   "execution_count": 72,
   "id": "79b2c66e-62fd-42c1-b9c0-8db826458ee4",
   "metadata": {},
   "outputs": [
    {
     "data": {
      "text/html": [
       "<div>\n",
       "<style scoped>\n",
       "    .dataframe tbody tr th:only-of-type {\n",
       "        vertical-align: middle;\n",
       "    }\n",
       "\n",
       "    .dataframe tbody tr th {\n",
       "        vertical-align: top;\n",
       "    }\n",
       "\n",
       "    .dataframe thead th {\n",
       "        text-align: right;\n",
       "    }\n",
       "</style>\n",
       "<table border=\"1\" class=\"dataframe\">\n",
       "  <thead>\n",
       "    <tr style=\"text-align: right;\">\n",
       "      <th></th>\n",
       "      <th>Count</th>\n",
       "    </tr>\n",
       "  </thead>\n",
       "  <tbody>\n",
       "    <tr>\n",
       "      <th>Very unsatisfied</th>\n",
       "      <td>33</td>\n",
       "    </tr>\n",
       "    <tr>\n",
       "      <th>Unsatisfied</th>\n",
       "      <td>19</td>\n",
       "    </tr>\n",
       "    <tr>\n",
       "      <th>Neutral</th>\n",
       "      <td>19</td>\n",
       "    </tr>\n",
       "    <tr>\n",
       "      <th>Satisfied</th>\n",
       "      <td>10</td>\n",
       "    </tr>\n",
       "    <tr>\n",
       "      <th>Very Satisfied</th>\n",
       "      <td>1</td>\n",
       "    </tr>\n",
       "  </tbody>\n",
       "</table>\n",
       "</div>"
      ],
      "text/plain": [
       "                  Count\n",
       "Very unsatisfied     33\n",
       "Unsatisfied          19\n",
       "Neutral              19\n",
       "Satisfied            10\n",
       "Very Satisfied        1"
      ]
     },
     "execution_count": 72,
     "metadata": {},
     "output_type": "execute_result"
    }
   ],
   "source": [
    "sata"
   ]
  },
  {
   "cell_type": "code",
   "execution_count": 73,
   "id": "04824ea0-3d0b-41a9-84df-3f4ff12b1235",
   "metadata": {},
   "outputs": [
    {
     "data": {
      "text/plain": [
       "<AxesSubplot:>"
      ]
     },
     "execution_count": 73,
     "metadata": {},
     "output_type": "execute_result"
    },
    {
     "data": {
      "image/png": "[encoded data removed]",
      "text/plain": [
       "<Figure size 640x480 with 1 Axes>"
      ]
     },
     "metadata": {},
     "output_type": "display_data"
    }
   ],
   "source": [
    "sata.plot.barh()"
   ]
  },
  {
   "cell_type": "code",
   "execution_count": 74,
   "id": "5674405f-4f40-4c82-91d5-b52b2af40dd3",
   "metadata": {},
   "outputs": [
    {
     "data": {
      "text/plain": [
       "Primary School      33.333333\n",
       "Secondary School    37.037037\n",
       "Bachelor Degree     27.160494\n",
       "Master Degree        2.469136\n",
       "Name: %, dtype: float64"
      ]
     },
     "execution_count": 74,
     "metadata": {},
     "output_type": "execute_result"
    }
   ],
   "source": [
    "edu['%']"
   ]
  },
  {
   "cell_type": "code",
   "execution_count": 75,
   "id": "be1839a5-0822-4fc1-b446-a8fceb9e08f7",
   "metadata": {},
   "outputs": [
    {
     "data": {
      "image/png": "[encoded data removed]",
      "text/plain": [
       "<Figure size 640x480 with 1 Axes>"
      ]
     },
     "metadata": {},
     "output_type": "display_data"
    }
   ],
   "source": [
    "edu['%'].plot.barh(zorder = 1)\n",
    "sata['Count'].plot.barh(zorder =2)\n",
    "plt.title('Education to Salary satisfaction')\n",
    "\n",
    "#plt.ylabel('%, n = ' + str(sata['Count'].sum()))\n",
    "plt.xlabel('%, n = ' + str(edu['Count'].sum()))\n",
    "\n",
    "plt.grid(axis = 'x')\n",
    "plt.tick_params(axis = 'y', length = 0)"
   ]
  },
  {
   "cell_type": "code",
   "execution_count": 76,
   "id": "ac155346-858a-4f61-8428-c9018e58a9ca",
   "metadata": {},
   "outputs": [],
   "source": [
    "sata = pd.crosstab(edusaca['sat_salary'], edusaca['education'], normalize = 'columns') * 100\n",
    "sata.index=['Very unsatisfied', 'Unsatisfied', 'Neutral', 'Satisfied', 'Very Satisfied']\n",
    "sata.columns = ['Primary School', 'Secondary School', 'Bachelor Degree', 'Master Degree']"
   ]
  },
  {
   "cell_type": "code",
   "execution_count": 77,
   "id": "fe180751-2461-47a5-bd14-0b68a04c3e14",
   "metadata": {},
   "outputs": [
    {
     "data": {
      "text/html": [
       "<div>\n",
       "<style scoped>\n",
       "    .dataframe tbody tr th:only-of-type {\n",
       "        vertical-align: middle;\n",
       "    }\n",
       "\n",
       "    .dataframe tbody tr th {\n",
       "        vertical-align: top;\n",
       "    }\n",
       "\n",
       "    .dataframe thead th {\n",
       "        text-align: right;\n",
       "    }\n",
       "</style>\n",
       "<table border=\"1\" class=\"dataframe\">\n",
       "  <thead>\n",
       "    <tr style=\"text-align: right;\">\n",
       "      <th></th>\n",
       "      <th>Primary School</th>\n",
       "      <th>Secondary School</th>\n",
       "      <th>Bachelor Degree</th>\n",
       "      <th>Master Degree</th>\n",
       "    </tr>\n",
       "  </thead>\n",
       "  <tbody>\n",
       "    <tr>\n",
       "      <th>Very unsatisfied</th>\n",
       "      <td>51.851852</td>\n",
       "      <td>40.000000</td>\n",
       "      <td>31.818182</td>\n",
       "      <td>0.0</td>\n",
       "    </tr>\n",
       "    <tr>\n",
       "      <th>Unsatisfied</th>\n",
       "      <td>22.222222</td>\n",
       "      <td>26.666667</td>\n",
       "      <td>18.181818</td>\n",
       "      <td>50.0</td>\n",
       "    </tr>\n",
       "    <tr>\n",
       "      <th>Neutral</th>\n",
       "      <td>18.518519</td>\n",
       "      <td>26.666667</td>\n",
       "      <td>22.727273</td>\n",
       "      <td>0.0</td>\n",
       "    </tr>\n",
       "    <tr>\n",
       "      <th>Satisfied</th>\n",
       "      <td>7.407407</td>\n",
       "      <td>3.333333</td>\n",
       "      <td>27.272727</td>\n",
       "      <td>50.0</td>\n",
       "    </tr>\n",
       "    <tr>\n",
       "      <th>Very Satisfied</th>\n",
       "      <td>0.000000</td>\n",
       "      <td>3.333333</td>\n",
       "      <td>0.000000</td>\n",
       "      <td>0.0</td>\n",
       "    </tr>\n",
       "  </tbody>\n",
       "</table>\n",
       "</div>"
      ],
      "text/plain": [
       "                  Primary School  Secondary School  Bachelor Degree  \\\n",
       "Very unsatisfied       51.851852         40.000000        31.818182   \n",
       "Unsatisfied            22.222222         26.666667        18.181818   \n",
       "Neutral                18.518519         26.666667        22.727273   \n",
       "Satisfied               7.407407          3.333333        27.272727   \n",
       "Very Satisfied          0.000000          3.333333         0.000000   \n",
       "\n",
       "                  Master Degree  \n",
       "Very unsatisfied            0.0  \n",
       "Unsatisfied                50.0  \n",
       "Neutral                     0.0  \n",
       "Satisfied                  50.0  \n",
       "Very Satisfied              0.0  "
      ]
     },
     "execution_count": 77,
     "metadata": {},
     "output_type": "execute_result"
    }
   ],
   "source": [
    "sata"
   ]
  },
  {
   "cell_type": "code",
   "execution_count": 78,
   "id": "bcd93cdc-ab4c-4e25-9442-b1826b63dd4c",
   "metadata": {},
   "outputs": [
    {
     "data": {
      "image/png": "[encoded data removed]",
      "text/plain": [
       "<Figure size 640x480 with 1 Axes>"
      ]
     },
     "metadata": {},
     "output_type": "display_data"
    }
   ],
   "source": [
    "sata.plot.barh(legend = 'reverse')\n",
    "\n",
    "plt.xlabel('Percentages of satisfaction to salary by level of education')\n",
    "\n",
    "plt.grid(axis = 'y')"
   ]
  },
  {
   "cell_type": "code",
   "execution_count": null,
   "id": "795bfc62-cc8b-4539-9274-fe53770bf274",
   "metadata": {},
   "outputs": [],
   "source": []
  },
  {
   "cell_type": "code",
   "execution_count": null,
   "id": "6916cfa3-1176-42ce-b020-3e25372d689e",
   "metadata": {},
   "outputs": [],
   "source": []
  }
 ],
 "metadata": {
  "kernelspec": {
   "display_name": "Python 3 (ipykernel)",
   "language": "python",
   "name": "python3"
  },
  "language_info": {
   "codemirror_mode": {
    "name": "ipython",
    "version": 3
   },
   "file_extension": ".py",
   "mimetype": "text/x-python",
   "name": "python",
   "nbconvert_exporter": "python",
   "pygments_lexer": "ipython3",
   "version": "3.9.13"
  }
 },
 "nbformat": 4,
 "nbformat_minor": 5
}
